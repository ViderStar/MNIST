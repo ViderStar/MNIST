{
 "cells": [
  {
   "cell_type": "markdown",
   "source": [
    "### Importing Necessary Libraries"
   ],
   "metadata": {
    "collapsed": false
   },
   "id": "6d77eab3ae716fe3"
  },
  {
   "cell_type": "code",
   "execution_count": 9,
   "outputs": [],
   "source": [
    "import numpy as np\n",
    "import pandas as pd\n",
    "import tensorflow\n",
    "from tensorflow.keras.layers import Conv2D, Flatten, Dropout, MaxPool2D, Dense\n",
    "from tensorflow.keras import Sequential\n",
    "import matplotlib.pyplot as plt\n",
    "from tensorflow.keras.datasets import mnist\n",
    "from tensorflow.keras.preprocessing.image import ImageDataGenerator\n",
    "from tensorflow.keras.callbacks import ReduceLROnPlateau, ModelCheckpoint"
   ],
   "metadata": {
    "collapsed": false,
    "ExecuteTime": {
     "end_time": "2023-08-04T11:34:28.966674600Z",
     "start_time": "2023-08-04T11:34:28.888543400Z"
    }
   },
   "id": "initial_id"
  },
  {
   "cell_type": "markdown",
   "source": [
    "### Data Loading and Preprocessing"
   ],
   "metadata": {
    "collapsed": false
   },
   "id": "7c19d0312f1192fa"
  },
  {
   "cell_type": "code",
   "execution_count": 10,
   "outputs": [],
   "source": [
    "train = pd.read_csv('train.csv')\n",
    "test = pd.read_csv('test.csv')"
   ],
   "metadata": {
    "collapsed": false,
    "ExecuteTime": {
     "end_time": "2023-08-04T11:34:30.796274Z",
     "start_time": "2023-08-04T11:34:28.904171700Z"
    }
   },
   "id": "4ad83a29c8085094"
  },
  {
   "cell_type": "code",
   "execution_count": 11,
   "outputs": [],
   "source": [
    "X_train = train.drop(['label'],axis=1)\n",
    "X_train = X_train/255.0\n",
    "X_train = X_train.values.reshape(-1, 28, 28, 1)\n",
    "y_train = tensorflow.keras.utils.to_categorical(train['label'], num_classes=10)"
   ],
   "metadata": {
    "collapsed": false,
    "ExecuteTime": {
     "end_time": "2023-08-04T11:34:30.944288400Z",
     "start_time": "2023-08-04T11:34:30.796274Z"
    }
   },
   "id": "ff74884cfcafc39c"
  },
  {
   "cell_type": "code",
   "execution_count": 12,
   "outputs": [],
   "source": [
    "test = test / 255.0\n",
    "test = test.values.reshape(-1, 28, 28, 1)"
   ],
   "metadata": {
    "collapsed": false,
    "ExecuteTime": {
     "end_time": "2023-08-04T11:34:31.006792600Z",
     "start_time": "2023-08-04T11:34:30.944288400Z"
    }
   },
   "id": "32a10a0998838a45"
  },
  {
   "cell_type": "code",
   "execution_count": 13,
   "outputs": [],
   "source": [
    "(X_train_MNIST, y_train_MNIST), (X_test_MNIST, y_test_MNIST) = mnist.load_data()\n",
    "train_mnist = np.concatenate((X_train_MNIST, X_test_MNIST))\n",
    "test_mnist = np.concatenate((y_train_MNIST, y_test_MNIST))\n",
    "\n",
    "train_mnist = train_mnist.reshape(-1, 28, 28, 1)\n",
    "train_mnist = train_mnist/255.0\n",
    "\n",
    "test_mnist = tensorflow.keras.utils.to_categorical(test_mnist, num_classes=10)\n",
    "\n",
    "images = np.concatenate((X_train, train_mnist))\n",
    "labels = np.concatenate((y_train, test_mnist))"
   ],
   "metadata": {
    "collapsed": false,
    "ExecuteTime": {
     "end_time": "2023-08-04T11:34:31.447562600Z",
     "start_time": "2023-08-04T11:34:31.006792600Z"
    }
   },
   "id": "f77e0c9ed508831c"
  },
  {
   "cell_type": "code",
   "execution_count": 14,
   "outputs": [
    {
     "data": {
      "text/plain": "<Figure size 1000x1000 with 9 Axes>",
      "image/png": "[encoded data removed]"
     },
     "metadata": {},
     "output_type": "display_data"
    }
   ],
   "source": [
    "plt.figure(figsize=(10, 10))\n",
    "for i in range(9):\n",
    "    ax = plt.subplot(3,3,i+1)\n",
    "    plt.xticks([])\n",
    "    plt.yticks([])\n",
    "    plt.grid(False)\n",
    "    plt.imshow(X_train[i], cmap=plt.cm.binary)\n",
    "    plt.axis(\"off\")\n",
    "plt.show()"
   ],
   "metadata": {
    "collapsed": false,
    "ExecuteTime": {
     "end_time": "2023-08-04T11:34:31.621939700Z",
     "start_time": "2023-08-04T11:34:31.447562600Z"
    }
   },
   "id": "571a29f3b9b11ca3"
  },
  {
   "cell_type": "code",
   "execution_count": 15,
   "outputs": [
    {
     "name": "stdout",
     "output_type": "stream",
     "text": [
      "(112000, 28, 28, 1)\n",
      "(112000, 10)\n"
     ]
    }
   ],
   "source": [
    "print(images.shape)\n",
    "print(labels.shape)"
   ],
   "metadata": {
    "collapsed": false,
    "ExecuteTime": {
     "end_time": "2023-08-04T11:34:31.637564900Z",
     "start_time": "2023-08-04T11:34:31.621939700Z"
    }
   },
   "id": "633451ac940e6d75"
  },
  {
   "cell_type": "markdown",
   "source": [
    "### Data Augmentation"
   ],
   "metadata": {
    "collapsed": false
   },
   "id": "23e7010b124cca4b"
  },
  {
   "cell_type": "code",
   "execution_count": 16,
   "outputs": [],
   "source": [
    "datagen = ImageDataGenerator(rotation_range=20, width_shift_range=0.2, shear_range=15, zoom_range=0.1, validation_split=0.25)"
   ],
   "metadata": {
    "collapsed": false,
    "ExecuteTime": {
     "end_time": "2023-08-04T11:34:31.731322Z",
     "start_time": "2023-08-04T11:34:31.637564900Z"
    }
   },
   "id": "81dd862a0924bfc0"
  },
  {
   "cell_type": "code",
   "execution_count": 17,
   "outputs": [],
   "source": [
    "train_dataset = datagen.flow(images, labels, batch_size=256, subset='training')"
   ],
   "metadata": {
    "collapsed": false,
    "ExecuteTime": {
     "end_time": "2023-08-04T11:34:31.746949300Z",
     "start_time": "2023-08-04T11:34:31.653190900Z"
    }
   },
   "id": "87a7ef5fffce3de5"
  },
  {
   "cell_type": "code",
   "execution_count": 18,
   "outputs": [],
   "source": [
    "test_dataset = datagen.flow(images, labels, batch_size=64, subset='validation')"
   ],
   "metadata": {
    "collapsed": false,
    "ExecuteTime": {
     "end_time": "2023-08-04T11:34:31.793826800Z",
     "start_time": "2023-08-04T11:34:31.746949300Z"
    }
   },
   "id": "2f3c8da565cfab38"
  },
  {
   "cell_type": "markdown",
   "source": [
    "### Model Building"
   ],
   "metadata": {
    "collapsed": false
   },
   "id": "dd0f699a11ee319f"
  },
  {
   "cell_type": "code",
   "execution_count": 19,
   "outputs": [],
   "source": [
    "model = Sequential()"
   ],
   "metadata": {
    "collapsed": false,
    "ExecuteTime": {
     "end_time": "2023-08-04T11:34:31.856331Z",
     "start_time": "2023-08-04T11:34:31.793826800Z"
    }
   },
   "id": "cb9809397794e1be"
  },
  {
   "cell_type": "code",
   "execution_count": 20,
   "outputs": [],
   "source": [
    "model.add(Conv2D(filters=32, kernel_size=5, activation='relu', padding='same', input_shape=(28, 28, 1)))\n",
    "model.add(MaxPool2D(pool_size=2))\n",
    "model.add(Conv2D(filters=64, kernel_size=3, activation='relu', padding='same'))\n",
    "model.add(Conv2D(filters=64, kernel_size=3, activation='relu', padding='same'))\n",
    "model.add(MaxPool2D(pool_size=2))\n",
    "model.add(Conv2D(filters=64, kernel_size=3, activation='relu', padding='same'))\n",
    "model.add(Conv2D(filters=64, kernel_size=3, activation='relu', padding='same'))\n",
    "model.add(MaxPool2D(pool_size=2))"
   ],
   "metadata": {
    "collapsed": false,
    "ExecuteTime": {
     "end_time": "2023-08-04T11:34:31.918833900Z",
     "start_time": "2023-08-04T11:34:31.856331Z"
    }
   },
   "id": "abcbda00586e5a32"
  },
  {
   "cell_type": "code",
   "execution_count": 21,
   "outputs": [],
   "source": [
    "model.add(Flatten())\n",
    "model.add(Dense(512, activation='relu'))\n",
    "model.add(Dropout(0.25))\n",
    "model.add(Dense(512, activation='relu'))\n",
    "model.add(Dropout(0.25))\n",
    "model.add(Dense(512, activation='relu'))\n",
    "model.add(Dropout(0.1))\n",
    "model.add(Dense(256, activation='relu'))\n",
    "model.add(Dense(10, activation='softmax'))"
   ],
   "metadata": {
    "collapsed": false,
    "ExecuteTime": {
     "end_time": "2023-08-04T11:34:31.981338300Z",
     "start_time": "2023-08-04T11:34:31.918833900Z"
    }
   },
   "id": "dd99e598628e26be"
  },
  {
   "cell_type": "markdown",
   "source": [
    "### Model Compilation and Training"
   ],
   "metadata": {
    "collapsed": false
   },
   "id": "d74ea9fbd4553370"
  },
  {
   "cell_type": "code",
   "execution_count": 22,
   "outputs": [],
   "source": [
    "model.compile(optimizer='adam', loss='categorical_crossentropy', metrics=['accuracy'])"
   ],
   "metadata": {
    "collapsed": false,
    "ExecuteTime": {
     "end_time": "2023-08-04T11:34:31.996964400Z",
     "start_time": "2023-08-04T11:34:31.981338300Z"
    }
   },
   "id": "b1aa99efbdb8ea7c"
  },
  {
   "cell_type": "code",
   "execution_count": 23,
   "outputs": [],
   "source": [
    "reduce_lr = ReduceLROnPlateau(monitor='val_loss', factor=0.1, patience=5, min_lr=0.000001)\n",
    "checkpoint = ModelCheckpoint(filepath='model.hdf5', monitor='val_loss', save_best_only=True, save_weights_only=True)"
   ],
   "metadata": {
    "collapsed": false,
    "ExecuteTime": {
     "end_time": "2023-08-04T11:34:32.012591Z",
     "start_time": "2023-08-04T11:34:31.996964400Z"
    }
   },
   "id": "1cee135b7efbd210"
  },
  {
   "cell_type": "code",
   "execution_count": 24,
   "outputs": [
    {
     "name": "stdout",
     "output_type": "stream",
     "text": [
      "Epoch 1/20\n",
      "329/329 [==============================] - 51s 151ms/step - loss: 0.4464 - accuracy: 0.8478 - val_loss: 0.1088 - val_accuracy: 0.9668 - lr: 0.0010\n",
      "Epoch 2/20\n",
      "329/329 [==============================] - 51s 154ms/step - loss: 0.1042 - accuracy: 0.9687 - val_loss: 0.0746 - val_accuracy: 0.9771 - lr: 0.0010\n",
      "Epoch 3/20\n",
      "329/329 [==============================] - 51s 156ms/step - loss: 0.0753 - accuracy: 0.9776 - val_loss: 0.0586 - val_accuracy: 0.9829 - lr: 0.0010\n",
      "Epoch 4/20\n",
      "329/329 [==============================] - 51s 154ms/step - loss: 0.0618 - accuracy: 0.9823 - val_loss: 0.0554 - val_accuracy: 0.9833 - lr: 0.0010\n",
      "Epoch 5/20\n",
      "329/329 [==============================] - 50s 151ms/step - loss: 0.0567 - accuracy: 0.9838 - val_loss: 0.0436 - val_accuracy: 0.9878 - lr: 0.0010\n",
      "Epoch 6/20\n",
      "329/329 [==============================] - 50s 152ms/step - loss: 0.0499 - accuracy: 0.9856 - val_loss: 0.0431 - val_accuracy: 0.9879 - lr: 0.0010\n",
      "Epoch 7/20\n",
      "329/329 [==============================] - 50s 152ms/step - loss: 0.0470 - accuracy: 0.9859 - val_loss: 0.0406 - val_accuracy: 0.9881 - lr: 0.0010\n",
      "Epoch 8/20\n",
      "329/329 [==============================] - 50s 153ms/step - loss: 0.0413 - accuracy: 0.9878 - val_loss: 0.0368 - val_accuracy: 0.9887 - lr: 0.0010\n",
      "Epoch 9/20\n",
      "329/329 [==============================] - 50s 151ms/step - loss: 0.0379 - accuracy: 0.9889 - val_loss: 0.0357 - val_accuracy: 0.9894 - lr: 0.0010\n",
      "Epoch 10/20\n",
      "329/329 [==============================] - 52s 158ms/step - loss: 0.0393 - accuracy: 0.9886 - val_loss: 0.0316 - val_accuracy: 0.9910 - lr: 0.0010\n",
      "Epoch 11/20\n",
      "329/329 [==============================] - 49s 149ms/step - loss: 0.0374 - accuracy: 0.9894 - val_loss: 0.0308 - val_accuracy: 0.9909 - lr: 0.0010\n",
      "Epoch 12/20\n",
      "329/329 [==============================] - 49s 149ms/step - loss: 0.0363 - accuracy: 0.9895 - val_loss: 0.0404 - val_accuracy: 0.9879 - lr: 0.0010\n",
      "Epoch 13/20\n",
      "329/329 [==============================] - 51s 155ms/step - loss: 0.0356 - accuracy: 0.9899 - val_loss: 0.0366 - val_accuracy: 0.9893 - lr: 0.0010\n",
      "Epoch 14/20\n",
      "329/329 [==============================] - 50s 151ms/step - loss: 0.0338 - accuracy: 0.9902 - val_loss: 0.0296 - val_accuracy: 0.9909 - lr: 0.0010\n",
      "Epoch 15/20\n",
      "329/329 [==============================] - 50s 151ms/step - loss: 0.0325 - accuracy: 0.9911 - val_loss: 0.0332 - val_accuracy: 0.9902 - lr: 0.0010\n",
      "Epoch 16/20\n",
      "329/329 [==============================] - 50s 151ms/step - loss: 0.0322 - accuracy: 0.9911 - val_loss: 0.0259 - val_accuracy: 0.9921 - lr: 0.0010\n",
      "Epoch 17/20\n",
      "329/329 [==============================] - 50s 152ms/step - loss: 0.0302 - accuracy: 0.9916 - val_loss: 0.0294 - val_accuracy: 0.9923 - lr: 0.0010\n",
      "Epoch 18/20\n",
      "329/329 [==============================] - 50s 152ms/step - loss: 0.0286 - accuracy: 0.9919 - val_loss: 0.0242 - val_accuracy: 0.9927 - lr: 0.0010\n",
      "Epoch 19/20\n",
      "329/329 [==============================] - 50s 152ms/step - loss: 0.0292 - accuracy: 0.9919 - val_loss: 0.0264 - val_accuracy: 0.9926 - lr: 0.0010\n",
      "Epoch 20/20\n",
      "329/329 [==============================] - 50s 152ms/step - loss: 0.0299 - accuracy: 0.9916 - val_loss: 0.0239 - val_accuracy: 0.9927 - lr: 0.0010\n"
     ]
    }
   ],
   "source": [
    "history = model.fit(train_dataset, epochs=20, validation_data=test_dataset, callbacks=[reduce_lr, checkpoint])"
   ],
   "metadata": {
    "collapsed": false,
    "ExecuteTime": {
     "end_time": "2023-08-04T11:51:15.435161500Z",
     "start_time": "2023-08-04T11:34:32.012591Z"
    }
   },
   "id": "c547fa46324d2b94"
  },
  {
   "cell_type": "markdown",
   "source": [
    "### Plotting Training History"
   ],
   "metadata": {
    "collapsed": false
   },
   "id": "726688283b6bed05"
  },
  {
   "cell_type": "code",
   "execution_count": 25,
   "outputs": [
    {
     "data": {
      "text/plain": "<Figure size 1400x500 with 2 Axes>",
      "image/png": "[encoded data removed]"
     },
     "metadata": {},
     "output_type": "display_data"
    }
   ],
   "source": [
    "plt.figure(figsize=(14, 5))\n",
    "\n",
    "# Plotting Accuracy\n",
    "plt.subplot(1, 2, 1)\n",
    "plt.plot(history.history['accuracy'], label='Training Accuracy')\n",
    "plt.plot(history.history['val_accuracy'], label='Validation Accuracy')\n",
    "plt.title('Model Accuracy')\n",
    "plt.xlabel('Epoch')\n",
    "plt.ylabel('Accuracy')\n",
    "plt.legend()\n",
    "\n",
    "# Plotting Loss\n",
    "plt.subplot(1, 2, 2)\n",
    "plt.plot(history.history['loss'], label='Training Loss')\n",
    "plt.plot(history.history['val_loss'], label='Validation Loss')\n",
    "plt.title('Model Loss')\n",
    "plt.xlabel('Epoch')\n",
    "plt.ylabel('Loss')\n",
    "plt.legend()\n",
    "\n",
    "plt.tight_layout()\n",
    "plt.show()"
   ],
   "metadata": {
    "collapsed": false,
    "ExecuteTime": {
     "end_time": "2023-08-04T11:51:15.721583Z",
     "start_time": "2023-08-04T11:51:15.449263900Z"
    }
   },
   "id": "e9dee6b7183d7ccc"
  },
  {
   "cell_type": "code",
   "execution_count": 26,
   "outputs": [
    {
     "name": "stdout",
     "output_type": "stream",
     "text": [
      "875/875 [==============================] - 6s 7ms/step\n"
     ]
    }
   ],
   "source": [
    "test = pd.read_csv('test.csv')\n",
    "\n",
    "test = np.array(test, dtype=np.float32)/255\n",
    "test = test.reshape(-1,28,28,1)\n",
    "prediction = model.predict(test)\n",
    "predict = np.array(np.round(prediction), dtype = np.int32)\n",
    "predict = np.argmax(predict , axis=1).reshape(-1, 1)\n",
    "out = [{'ImageId': i+1, 'Label': predict[i][0]} for i in range(len(predict))]\n",
    "pd.DataFrame(out).to_csv('submission.csv', index=False)"
   ],
   "metadata": {
    "collapsed": false,
    "ExecuteTime": {
     "end_time": "2023-08-04T11:51:23.351318300Z",
     "start_time": "2023-08-04T11:51:15.721583Z"
    }
   },
   "id": "a217c39b04c7a15c"
  },
  {
   "cell_type": "code",
   "execution_count": 26,
   "outputs": [],
   "source": [],
   "metadata": {
    "collapsed": false,
    "ExecuteTime": {
     "end_time": "2023-08-04T11:51:23.368461900Z",
     "start_time": "2023-08-04T11:51:23.352356300Z"
    }
   },
   "id": "1249c63df22e8e7"
  }
 ],
 "metadata": {
  "kernelspec": {
   "display_name": "Python 3",
   "language": "python",
   "name": "python3"
  },
  "language_info": {
   "codemirror_mode": {
    "name": "ipython",
    "version": 2
   },
   "file_extension": ".py",
   "mimetype": "text/x-python",
   "name": "python",
   "nbconvert_exporter": "python",
   "pygments_lexer": "ipython2",
   "version": "2.7.6"
  }
 },
 "nbformat": 4,
 "nbformat_minor": 5
}
